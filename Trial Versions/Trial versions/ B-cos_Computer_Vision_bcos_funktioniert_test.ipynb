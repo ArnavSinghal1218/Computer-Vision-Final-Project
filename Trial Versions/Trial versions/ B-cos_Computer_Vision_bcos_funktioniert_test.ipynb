{
  "cells": [
    {
      "cell_type": "markdown",
      "metadata": {
        "id": "xNmmAd1QVBYM"
      },
      "source": [
        "# Emotion detection for facial expressions"
      ]
    },
    {
      "cell_type": "code",
      "execution_count": 16,
      "metadata": {
        "colab": {
          "base_uri": "https://localhost:8080/"
        },
        "id": "-Q8Xl3y63IP_",
        "outputId": "95896ada-a92f-4c6e-aaed-3ee7405a4379"
      },
      "outputs": [],
      "source": [
        "import numpy as np\n",
        "import matplotlib.pyplot as plt\n",
        "\n",
        "import torch\n",
        "import pandas as pd\n",
        "import torch.nn.functional as F\n",
        "from torch.utils.data import Dataset,DataLoader, random_split\n",
        "from torchvision import transforms\n",
        "import torch.optim as optim\n",
        "from torch import nn\n",
        "torch.manual_seed(123)\n",
        "from IPython.display import clear_output\n",
        "from typing import cast"
      ]
    },
    {
      "cell_type": "markdown",
      "metadata": {
        "id": "Loj2njOIVBYV"
      },
      "source": [
        "# Loading the dataset"
      ]
    },
    {
      "cell_type": "code",
      "execution_count": 7,
      "metadata": {
        "id": "FToH7__xVBYW"
      },
      "outputs": [],
      "source": [
        "df = pd.read_csv('fer2013.csv')\n",
        "\n",
        "class FER2013Dataset(Dataset):\n",
        "    def __init__(self, dataframe, transform=None):\n",
        "        self.dataframe = dataframe\n",
        "        self.transform = transform\n",
        "\n",
        "    def __len__(self):\n",
        "        return len(self.dataframe)\n",
        "\n",
        "    def __getitem__(self, idx):\n",
        "        #Load pixels and labels from csv\n",
        "        pixels = self.dataframe.iloc[idx, 1]\n",
        "        label = int(self.dataframe.iloc[idx, 0])\n",
        "\n",
        "        # Convert to 48x48 pixel image\n",
        "        image = np.fromstring(pixels, sep=' ').reshape(48, 48).astype(np.uint8)\n",
        "\n",
        "        if self.transform:\n",
        "            image = self.transform(image)\n",
        "\n",
        "        return image, label\n",
        "\n",
        "# Define transformation\n",
        "transform = transforms.Compose([\n",
        "    transforms.ToPILImage(),\n",
        "    transforms.Resize((48, 48)),\n",
        "    transforms.ToTensor(),\n",
        "    transforms.Normalize(mean=[0.5], std=[0.5])\n",
        "])\n",
        "\n",
        "# Create dataset\n",
        "fer_dataset = FER2013Dataset(dataframe=df, transform=transform)\n",
        "\n",
        "# Split in Training (80%), Validation (10%) and Test (10%)\n",
        "train_size = int(0.8 * len(fer_dataset))\n",
        "val_size = int(0.1 * len(fer_dataset))\n",
        "test_size = len(fer_dataset) - train_size - val_size\n",
        "\n",
        "train_dataset, val_dataset, test_dataset = random_split(fer_dataset, [train_size, val_size, test_size])\n",
        "\n",
        "# Create dataloader\n",
        "train_loader = DataLoader(train_dataset, batch_size=32, shuffle=True)\n",
        "val_loader = DataLoader(val_dataset, batch_size=32, shuffle=False)\n",
        "test_loader = DataLoader(test_dataset, batch_size=32, shuffle=False)\n",
        "\n"
      ]
    },
    {
      "cell_type": "markdown",
      "metadata": {
        "id": "ufTMT-NJVBYY"
      },
      "source": [
        "## Implementing the network"
      ]
    },
    {
      "cell_type": "code",
      "execution_count": 8,
      "metadata": {},
      "outputs": [],
      "source": [
        "\n",
        "class NormedConv2d(nn.Conv2d):\n",
        "    \"\"\"\n",
        "    Standard 2D convolution, but with unit norm weights.\n",
        "    \"\"\"\n",
        "\n",
        "    def forward(self, in_tensor):\n",
        "        shape = self.weight.shape\n",
        "        w = self.weight.view(shape[0], -1)\n",
        "        w = w/(w.norm(p=2, dim=1, keepdim=True))\n",
        "        return F.conv2d(in_tensor, w.view(shape),\n",
        "                        self.bias, self.stride, self.padding, self.dilation, self.groups)\n",
        "\n",
        "class BcosConv2d(nn.Module):\n",
        "\n",
        "    def __init__(self, inc, outc, kernel_size=1, stride=1, padding=0, max_out=2, b=2,\n",
        "                 scale=None, scale_fact=100, **kwargs):\n",
        "        super().__init__()\n",
        "        \n",
        "        ks = kernel_size\n",
        "        self.stride = stride\n",
        "        self.linear = NormedConv2d(inc, outc * max_out, ks, stride, padding, 1, 1, bias=False)\n",
        "        self.outc = outc * max_out\n",
        "        self.b = b\n",
        "        self.max_out = max_out\n",
        "        self.inc = inc\n",
        "        self.kernel_size = ks\n",
        "        self.kssq = ks**2 if not isinstance(ks, tuple) else np.prod(ks)\n",
        "        self.padding = padding\n",
        "        self.detach = False\n",
        "        if scale is None:\n",
        "            ks_scale = ks if not isinstance(ks, tuple) else np.sqrt(np.prod(ks))\n",
        "            self.scale = (ks_scale * np.sqrt(self.inc)) / scale_fact\n",
        "        else:\n",
        "            self.scale = scale\n",
        "\n",
        "    def forward(self, in_tensor):\n",
        "        \"\"\"\n",
        "        In the case of B=2, we do not have to explicitly calculate the cosine term.\n",
        "        Args:\n",
        "            in_tensor: Input tensor. Expected shape: (B, C, H, W)\n",
        "\n",
        "        Returns:\n",
        "            BcosConv2d output on the input tensor.\n",
        "        \"\"\"\n",
        "        if self.b == 2:\n",
        "            return self.fwd_2(in_tensor)\n",
        "        return self.fwd_b(in_tensor)\n",
        "\n",
        "    def explanation_mode(self, detach=True):\n",
        "        \"\"\"\n",
        "        Enter 'explanation mode' by setting self.explain and self.detach.\n",
        "        Args:\n",
        "            detach: Whether to 'detach' the weight matrix from the computational graph so that it is not\n",
        "                            taken into account in the backward pass.\n",
        "\n",
        "        Returns: None\n",
        "\n",
        "        \"\"\"\n",
        "        self.detach = detach\n",
        "\n",
        "    def fwd_b(self, in_tensor):\n",
        "        # Simple linear layer\n",
        "        out = self.linear(in_tensor)\n",
        "        bs, _, h, w = out.shape\n",
        "\n",
        "        # MaxOut computation\n",
        "        if self.max_out > 1:\n",
        "            bs, _, h, w = out.shape\n",
        "            out = out.view(bs, -1, self.max_out, h, w)\n",
        "            out = out.max(dim=2, keepdim=False)[0]\n",
        "\n",
        "        # If B=1, no further calculation necessary.\n",
        "        if self.b == 1:\n",
        "            return out / self.scale\n",
        "\n",
        "        # Calculating the norm of input patches. Use average pooling and upscale by kernel size.\n",
        "        norm = (F.avg_pool2d((in_tensor ** 2).sum(1, keepdim=True), self.kernel_size, padding=self.padding,\n",
        "                             stride=self.stride) * self.kssq + 1e-6  # stabilising term\n",
        "                ).sqrt_()\n",
        "\n",
        "        # get absolute value of cos\n",
        "        # TODO: unnecessary doubling of stabilising term. Only affects CIFAR10 experiments in the paper.\n",
        "        abs_cos = (out / norm).abs() + 1e-6\n",
        "\n",
        "        # In order to compute the explanations, we detach the dynamically calculated scaling from the graph.\n",
        "        if self.detach:\n",
        "            abs_cos = abs_cos.detach()\n",
        "\n",
        "        # additional factor of cos^(b-1) s.t. in total we have norm * cos^b with original sign\n",
        "        out = out * abs_cos.pow(self.b-1)\n",
        "        return out / self.scale\n",
        "\n",
        "    def fwd_2(self, in_tensor):\n",
        "        # Simple linear layer\n",
        "        out = self.linear(in_tensor)\n",
        "\n",
        "        # MaxOut computation\n",
        "        if self.max_out > 1:\n",
        "            bs, _, h, w = out.shape\n",
        "            out = out.view(bs, -1, self.max_out, h, w)\n",
        "            out = out.max(dim=2, keepdim=False)[0]\n",
        "\n",
        "        # Calculating the norm of input patches. Use average pooling and upscale by kernel size.\n",
        "        # TODO: implement directly as F.sum_pool2d...\n",
        "        norm = (F.avg_pool2d((in_tensor ** 2).sum(1, keepdim=True), self.kernel_size, padding=self.padding,\n",
        "                                    stride=self.stride) * self.kssq + 1e-6  # stabilising term\n",
        "                ).sqrt_()\n",
        "\n",
        "        # In order to compute the explanations, we detach the dynamically calculated scaling from the graph.\n",
        "        if self.detach:\n",
        "            out = (out * out.abs().detach())\n",
        "            norm = norm.detach()\n",
        "        else:\n",
        "            out = (out * out.abs())\n",
        "\n",
        "        return out / (norm * self.scale)\n",
        "\n",
        "                \n"
      ]
    },
    {
      "cell_type": "code",
      "execution_count": 71,
      "metadata": {},
      "outputs": [],
      "source": [
        "def make_layers() -> nn.Sequential:\n",
        "    layers: List[nn.Module] = []\n",
        "    in_channels = 1\n",
        "    #cfg=[64, 'M', 128, 'M', 256, 256, 'M', 512, 512, 'M', 512, 512, 'M']#VGG11 Architec\n",
        "    cfg=[16, 'M', 32, 'M', 64,'M',64, 'M']\n",
        "    for v in cfg:\n",
        "        if v == 'M':\n",
        "            layers += [nn.AvgPool2d(kernel_size=2, stride=2)]\n",
        "        else:\n",
        "            v=cast(int,v)\n",
        "            conv2d = BcosConv2d(in_channels, v, kernel_size=3, padding=1, stride=1, scale_fact=1000)\n",
        "            layers += [conv2d, nn.BatchNorm2d(v), nn.ReLU(inplace=True)]\n",
        "            in_channels = v\n",
        "    return nn.Sequential(*layers)\n",
        "\n",
        "\n",
        "\n",
        "class VGG(nn.Module):\n",
        "\n",
        "    def __init__(\n",
        "        self,\n",
        "    ) -> None:\n",
        "        super(VGG, self).__init__()\n",
        "        self.num_classes:int=7\n",
        "        self.features = make_layers()\n",
        "        self.avgpool = nn.AdaptiveAvgPool2d((7, 7))\n",
        "        self.classifier = nn.Sequential(\n",
        "            BcosConv2d(64, 1024, kernel_size=7, padding=3, scale_fact=1000),\n",
        "            BcosConv2d(1024, 1024, scale_fact=1000),\n",
        "            BcosConv2d(1024, self.num_classes, scale_fact=1000),\n",
        "        )\n",
        "\n",
        "    def forward(self, x: torch.Tensor) -> torch.Tensor:\n",
        "        x = self.features(x)\n",
        "        x = self.classifier(x)\n",
        "        return x\n",
        "\n",
        "    def get_features(self, x):\n",
        "        return self.features(x)\n",
        "\n",
        "    def get_sequential_model(self):\n",
        "        model = nn.Sequential(\n",
        "            *[m for m in self.features], self.classifier\n",
        "        )\n",
        "        return model\n",
        "\n",
        "    def get_layer_idx(self, idx):\n",
        "        return int(np.ceil(len(self.get_sequential_model())*idx/10))"
      ]
    },
    {
      "cell_type": "code",
      "execution_count": 72,
      "metadata": {
        "id": "jYMIRhcq1lad"
      },
      "outputs": [],
      "source": [
        "\n",
        "\n",
        "# Cosine similarity-based loss function\n",
        "def cosine_loss(outputs, labels):\n",
        "    labels_one_hot = F.one_hot(labels, num_classes=outputs.size(1)).float()\n",
        "    cosine_sim = F.cosine_similarity(outputs, labels_one_hot, dim=1)\n",
        "    loss = 1 - torch.mean(cosine_sim)  # Use cosine similarity as loss\n",
        "    return loss\n",
        "\n",
        "# Validation function with cosine accuracy\n",
        "def validate(model, val_loader):\n",
        "    model.eval()\n",
        "    val_loss = 0.0\n",
        "    cosine_acc = 0.0\n",
        "    total = 0\n",
        "    with torch.no_grad():\n",
        "        for images, labels in val_loader:\n",
        "            images, labels = images.to(device), labels.to(device)\n",
        "            outputs = model(images)\n",
        "            loss = cosine_loss(outputs, labels)\n",
        "            val_loss += loss.item()\n",
        "            cosine_acc += cosine_accuracy(outputs, labels)\n",
        "            total += labels.size(0)\n",
        "    return val_loss / len(val_loader), cosine_acc / len(val_loader)\n",
        "\n",
        "# Cosine accuracy calculation\n",
        "def cosine_accuracy(outputs, labels):\n",
        "    labels_one_hot = F.one_hot(labels, num_classes=outputs.size(1)).float()\n",
        "    cosine_sim = F.cosine_similarity(outputs, labels_one_hot, dim=1)\n",
        "    correct = torch.sum(cosine_sim > 0.5).item()\n",
        "    total = labels.size(0)\n",
        "    accuracy = correct / total\n",
        "    return accuracy\n",
        "\n"
      ]
    },
    {
      "cell_type": "markdown",
      "metadata": {
        "id": "Sdoq4Z_AVBYc"
      },
      "source": [
        "## Define training and validation"
      ]
    },
    {
      "cell_type": "markdown",
      "metadata": {
        "id": "-S0M_sc5VBYe"
      },
      "source": [
        "## Training the network"
      ]
    },
    {
      "cell_type": "code",
      "execution_count": 73,
      "metadata": {
        "id": "0SQD1f0-VBYe"
      },
      "outputs": [],
      "source": [
        "def model_selection_and_evaluation(models, train_loader, val_loader,n_epochs):\n",
        "    plt.ion()  # Interaktiver Modus aktivieren\n",
        "\n",
        "    best_model = None\n",
        "    best_accuracy = 0\n",
        "    results = []\n",
        "    for epoch in range(n_epochs):\n",
        "        for i, (model_name, model) in enumerate(models.items()):\n",
        "            print(f\"\\nTraining {model_name}...\")\n",
        "            model = model.to(device)\n",
        "        \n",
        "        \n",
        "            optimizer = optim.SGD(model.parameters(), lr=0.01,nesterov=True,momentum=0.9,weight_decay=1e-4)\n",
        "            scheduler = optim.lr_scheduler.ReduceLROnPlateau(optimizer, mode='max', factor=0.75, patience=5, verbose=True)\n",
        "            # Train model\n",
        "            model.train()  \n",
        "            optimizer.zero_grad(set_to_none=True)  #set gradients to zero\n",
        "        \n",
        "        \n",
        "            running_loss = 0.0\n",
        "\n",
        "            # Training\n",
        "            for images, labels in train_loader:\n",
        "                images, labels = images.to(device), labels.to(device)\n",
        "\n",
        "            \n",
        "                outputs= model(images)  # Foreward pass\n",
        "                print(outputs.shape)\n",
        "                print(labels.shape)\n",
        "                loss = nn.CrossEntropyLoss(outputs, labels)  # Calculate loss, muss noch durch cosine loss ersetzt werden\n",
        "                loss.backward()  # Back pass\n",
        "                optimizer.step()  # update parameters\n",
        "                optimizer.zero_grad()\n",
        "                running_loss += loss.item()\n",
        "\n",
        "            # Calculate loss and accuracy for the validation data\n",
        "            val_loss, val_accuracy = validate(model, val_loader)\n",
        "            scheduler.step(val_loss)\n",
        "            print(f\"Epoch [{epoch+1}/{n_epochs}],model name {model_name} Loss: {running_loss/len(train_loader):.4f}, Validation Loss: {val_loss:.4f}, Validation Accuracy: {val_accuracy:.4f}\")\n",
        "        \n",
        "            # Evaluate model\n",
        "\n",
        "            results.append((model_name, val_accuracy))\n",
        "\n",
        "            # Select best model\n",
        "            if val_accuracy > best_accuracy:\n",
        "                best_accuracy = val_accuracy\n",
        "                best_model = model\n",
        "        \n",
        "\n",
        "        model_dict = {}\n",
        "        for model, accuracy in results:\n",
        "            if model not in model_dict:\n",
        "                model_dict[model] = []  # Create a list for each model\n",
        "            model_dict[model].append(accuracy)\n",
        "        plt.figure(figsize=(10, 6))\n",
        "\n",
        "    \n",
        "        clear_output(wait=True)\n",
        "        for model, accuracies in model_dict.items():\n",
        "            plt.plot(range(1, len(accuracies) + 1), accuracies, marker='o', label=model)\n",
        "        \n",
        "        # Achsen und Titel\n",
        "        plt.title('Validation accuracy as a function of number of epochs for all models')\n",
        "        plt.xlabel('Epochs')\n",
        "        plt.ylabel('Accuracy')\n",
        "        plt.legend()\n",
        "        plt.grid(True)\n",
        "\n",
        "        plt.show()\n",
        "        plt.savefig(\"accuracy.png\")\n",
        "    print(\"\\nModell comparison:\")\n",
        "    for model_name, accuracy in results:\n",
        "        print(f\"{model_name}: {accuracy:.2f}%\")\n",
        "    plt.ioff()  # Interaktiven Modus deaktivieren\n",
        "    plt.show()  # Plot am Ende anzeigen\n",
        "    return best_model, best_accuracy"
      ]
    },
    {
      "cell_type": "code",
      "execution_count": 74,
      "metadata": {
        "colab": {
          "base_uri": "https://localhost:8080/",
          "height": 228
        },
        "id": "G619yVGwVBYe",
        "outputId": "a4c4b8be-54e7-4b61-ff3f-06b7780bf481"
      },
      "outputs": [
        {
          "name": "stdout",
          "output_type": "stream",
          "text": [
            "Training on device cpu.\n",
            "\n",
            "Training Bcos LeNet5:...\n"
          ]
        },
        {
          "name": "stderr",
          "output_type": "stream",
          "text": [
            "c:\\Users\\arnel\\pyver\\py3123\\Lib\\site-packages\\torch\\optim\\lr_scheduler.py:60: UserWarning: The verbose parameter is deprecated. Please use get_last_lr() to access the learning rate.\n",
            "  warnings.warn(\n"
          ]
        },
        {
          "name": "stdout",
          "output_type": "stream",
          "text": [
            "torch.Size([32, 7, 3, 3])\n",
            "torch.Size([32])\n"
          ]
        },
        {
          "ename": "RuntimeError",
          "evalue": "Boolean value of Tensor with more than one value is ambiguous",
          "output_type": "error",
          "traceback": [
            "\u001b[1;31m---------------------------------------------------------------------------\u001b[0m",
            "\u001b[1;31mRuntimeError\u001b[0m                              Traceback (most recent call last)",
            "Cell \u001b[1;32mIn[74], line 10\u001b[0m\n\u001b[0;32m      4\u001b[0m \u001b[38;5;66;03m#Put in here the models you want to train\u001b[39;00m\n\u001b[0;32m      5\u001b[0m models \u001b[38;5;241m=\u001b[39m {\n\u001b[0;32m      6\u001b[0m    \u001b[38;5;124m\"\u001b[39m\u001b[38;5;124mBcos LeNet5:\u001b[39m\u001b[38;5;124m\"\u001b[39m:VGG(),\n\u001b[0;32m      7\u001b[0m    \n\u001b[0;32m      8\u001b[0m }\n\u001b[1;32m---> 10\u001b[0m best_model, best_accuracy \u001b[38;5;241m=\u001b[39m \u001b[43mmodel_selection_and_evaluation\u001b[49m\u001b[43m(\u001b[49m\u001b[43mmodels\u001b[49m\u001b[43m,\u001b[49m\u001b[43m \u001b[49m\u001b[43mtrain_loader\u001b[49m\u001b[43m,\u001b[49m\u001b[43m \u001b[49m\u001b[43mval_loader\u001b[49m\u001b[43m,\u001b[49m\u001b[43mn_epochs\u001b[49m\u001b[43m)\u001b[49m\n\u001b[0;32m     11\u001b[0m _,test_accuracy\u001b[38;5;241m=\u001b[39mvalidate(best_model, test_loader)\u001b[38;5;241m*\u001b[39m\u001b[38;5;241m100.\u001b[39m\n\u001b[0;32m     12\u001b[0m \u001b[38;5;28mprint\u001b[39m(\u001b[38;5;124mf\u001b[39m\u001b[38;5;124m\"\u001b[39m\u001b[38;5;130;01m\\n\u001b[39;00m\u001b[38;5;124mBest model: \u001b[39m\u001b[38;5;132;01m{\u001b[39;00mbest_model\u001b[38;5;241m.\u001b[39m\u001b[38;5;18m__class__\u001b[39m\u001b[38;5;241m.\u001b[39m\u001b[38;5;18m__name__\u001b[39m\u001b[38;5;132;01m}\u001b[39;00m\u001b[38;5;124m with a test accuracy of \u001b[39m\u001b[38;5;132;01m{\u001b[39;00mtest_accuracy\u001b[38;5;132;01m:\u001b[39;00m\u001b[38;5;124m.2f\u001b[39m\u001b[38;5;132;01m}\u001b[39;00m\u001b[38;5;124m%\u001b[39m\u001b[38;5;124m\"\u001b[39m)\n",
            "Cell \u001b[1;32mIn[73], line 30\u001b[0m, in \u001b[0;36mmodel_selection_and_evaluation\u001b[1;34m(models, train_loader, val_loader, n_epochs)\u001b[0m\n\u001b[0;32m     28\u001b[0m \u001b[38;5;28mprint\u001b[39m(outputs\u001b[38;5;241m.\u001b[39mshape)\n\u001b[0;32m     29\u001b[0m \u001b[38;5;28mprint\u001b[39m(labels\u001b[38;5;241m.\u001b[39mshape)\n\u001b[1;32m---> 30\u001b[0m loss \u001b[38;5;241m=\u001b[39m \u001b[43mnn\u001b[49m\u001b[38;5;241;43m.\u001b[39;49m\u001b[43mCrossEntropyLoss\u001b[49m\u001b[43m(\u001b[49m\u001b[43moutputs\u001b[49m\u001b[43m,\u001b[49m\u001b[43m \u001b[49m\u001b[43mlabels\u001b[49m\u001b[43m)\u001b[49m  \u001b[38;5;66;03m# Calculate loss, muss noch durch cosine loss ersetzt werden\u001b[39;00m\n\u001b[0;32m     31\u001b[0m loss\u001b[38;5;241m.\u001b[39mbackward()  \u001b[38;5;66;03m# Back pass\u001b[39;00m\n\u001b[0;32m     32\u001b[0m optimizer\u001b[38;5;241m.\u001b[39mstep()  \u001b[38;5;66;03m# update parameters\u001b[39;00m\n",
            "File \u001b[1;32mc:\\Users\\arnel\\pyver\\py3123\\Lib\\site-packages\\torch\\nn\\modules\\loss.py:1183\u001b[0m, in \u001b[0;36mCrossEntropyLoss.__init__\u001b[1;34m(self, weight, size_average, ignore_index, reduce, reduction, label_smoothing)\u001b[0m\n\u001b[0;32m   1181\u001b[0m \u001b[38;5;28;01mdef\u001b[39;00m \u001b[38;5;21m__init__\u001b[39m(\u001b[38;5;28mself\u001b[39m, weight: Optional[Tensor] \u001b[38;5;241m=\u001b[39m \u001b[38;5;28;01mNone\u001b[39;00m, size_average\u001b[38;5;241m=\u001b[39m\u001b[38;5;28;01mNone\u001b[39;00m, ignore_index: \u001b[38;5;28mint\u001b[39m \u001b[38;5;241m=\u001b[39m \u001b[38;5;241m-\u001b[39m\u001b[38;5;241m100\u001b[39m,\n\u001b[0;32m   1182\u001b[0m              reduce\u001b[38;5;241m=\u001b[39m\u001b[38;5;28;01mNone\u001b[39;00m, reduction: \u001b[38;5;28mstr\u001b[39m \u001b[38;5;241m=\u001b[39m \u001b[38;5;124m'\u001b[39m\u001b[38;5;124mmean\u001b[39m\u001b[38;5;124m'\u001b[39m, label_smoothing: \u001b[38;5;28mfloat\u001b[39m \u001b[38;5;241m=\u001b[39m \u001b[38;5;241m0.0\u001b[39m) \u001b[38;5;241m-\u001b[39m\u001b[38;5;241m>\u001b[39m \u001b[38;5;28;01mNone\u001b[39;00m:\n\u001b[1;32m-> 1183\u001b[0m     \u001b[38;5;28;43msuper\u001b[39;49m\u001b[43m(\u001b[49m\u001b[43m)\u001b[49m\u001b[38;5;241;43m.\u001b[39;49m\u001b[38;5;21;43m__init__\u001b[39;49m\u001b[43m(\u001b[49m\u001b[43mweight\u001b[49m\u001b[43m,\u001b[49m\u001b[43m \u001b[49m\u001b[43msize_average\u001b[49m\u001b[43m,\u001b[49m\u001b[43m \u001b[49m\u001b[43mreduce\u001b[49m\u001b[43m,\u001b[49m\u001b[43m \u001b[49m\u001b[43mreduction\u001b[49m\u001b[43m)\u001b[49m\n\u001b[0;32m   1184\u001b[0m     \u001b[38;5;28mself\u001b[39m\u001b[38;5;241m.\u001b[39mignore_index \u001b[38;5;241m=\u001b[39m ignore_index\n\u001b[0;32m   1185\u001b[0m     \u001b[38;5;28mself\u001b[39m\u001b[38;5;241m.\u001b[39mlabel_smoothing \u001b[38;5;241m=\u001b[39m label_smoothing\n",
            "File \u001b[1;32mc:\\Users\\arnel\\pyver\\py3123\\Lib\\site-packages\\torch\\nn\\modules\\loss.py:30\u001b[0m, in \u001b[0;36m_WeightedLoss.__init__\u001b[1;34m(self, weight, size_average, reduce, reduction)\u001b[0m\n\u001b[0;32m     29\u001b[0m \u001b[38;5;28;01mdef\u001b[39;00m \u001b[38;5;21m__init__\u001b[39m(\u001b[38;5;28mself\u001b[39m, weight: Optional[Tensor] \u001b[38;5;241m=\u001b[39m \u001b[38;5;28;01mNone\u001b[39;00m, size_average\u001b[38;5;241m=\u001b[39m\u001b[38;5;28;01mNone\u001b[39;00m, reduce\u001b[38;5;241m=\u001b[39m\u001b[38;5;28;01mNone\u001b[39;00m, reduction: \u001b[38;5;28mstr\u001b[39m \u001b[38;5;241m=\u001b[39m \u001b[38;5;124m'\u001b[39m\u001b[38;5;124mmean\u001b[39m\u001b[38;5;124m'\u001b[39m) \u001b[38;5;241m-\u001b[39m\u001b[38;5;241m>\u001b[39m \u001b[38;5;28;01mNone\u001b[39;00m:\n\u001b[1;32m---> 30\u001b[0m     \u001b[38;5;28;43msuper\u001b[39;49m\u001b[43m(\u001b[49m\u001b[43m)\u001b[49m\u001b[38;5;241;43m.\u001b[39;49m\u001b[38;5;21;43m__init__\u001b[39;49m\u001b[43m(\u001b[49m\u001b[43msize_average\u001b[49m\u001b[43m,\u001b[49m\u001b[43m \u001b[49m\u001b[43mreduce\u001b[49m\u001b[43m,\u001b[49m\u001b[43m \u001b[49m\u001b[43mreduction\u001b[49m\u001b[43m)\u001b[49m\n\u001b[0;32m     31\u001b[0m     \u001b[38;5;28mself\u001b[39m\u001b[38;5;241m.\u001b[39mregister_buffer(\u001b[38;5;124m'\u001b[39m\u001b[38;5;124mweight\u001b[39m\u001b[38;5;124m'\u001b[39m, weight)\n\u001b[0;32m     32\u001b[0m     \u001b[38;5;28mself\u001b[39m\u001b[38;5;241m.\u001b[39mweight: Optional[Tensor]\n",
            "File \u001b[1;32mc:\\Users\\arnel\\pyver\\py3123\\Lib\\site-packages\\torch\\nn\\modules\\loss.py:23\u001b[0m, in \u001b[0;36m_Loss.__init__\u001b[1;34m(self, size_average, reduce, reduction)\u001b[0m\n\u001b[0;32m     21\u001b[0m \u001b[38;5;28msuper\u001b[39m()\u001b[38;5;241m.\u001b[39m\u001b[38;5;21m__init__\u001b[39m()\n\u001b[0;32m     22\u001b[0m \u001b[38;5;28;01mif\u001b[39;00m size_average \u001b[38;5;129;01mis\u001b[39;00m \u001b[38;5;129;01mnot\u001b[39;00m \u001b[38;5;28;01mNone\u001b[39;00m \u001b[38;5;129;01mor\u001b[39;00m reduce \u001b[38;5;129;01mis\u001b[39;00m \u001b[38;5;129;01mnot\u001b[39;00m \u001b[38;5;28;01mNone\u001b[39;00m:\n\u001b[1;32m---> 23\u001b[0m     \u001b[38;5;28mself\u001b[39m\u001b[38;5;241m.\u001b[39mreduction: \u001b[38;5;28mstr\u001b[39m \u001b[38;5;241m=\u001b[39m \u001b[43m_Reduction\u001b[49m\u001b[38;5;241;43m.\u001b[39;49m\u001b[43mlegacy_get_string\u001b[49m\u001b[43m(\u001b[49m\u001b[43msize_average\u001b[49m\u001b[43m,\u001b[49m\u001b[43m \u001b[49m\u001b[43mreduce\u001b[49m\u001b[43m)\u001b[49m\n\u001b[0;32m     24\u001b[0m \u001b[38;5;28;01melse\u001b[39;00m:\n\u001b[0;32m     25\u001b[0m     \u001b[38;5;28mself\u001b[39m\u001b[38;5;241m.\u001b[39mreduction \u001b[38;5;241m=\u001b[39m reduction\n",
            "File \u001b[1;32mc:\\Users\\arnel\\pyver\\py3123\\Lib\\site-packages\\torch\\nn\\_reduction.py:35\u001b[0m, in \u001b[0;36mlegacy_get_string\u001b[1;34m(size_average, reduce, emit_warning)\u001b[0m\n\u001b[0;32m     32\u001b[0m \u001b[38;5;28;01mif\u001b[39;00m reduce \u001b[38;5;129;01mis\u001b[39;00m \u001b[38;5;28;01mNone\u001b[39;00m:\n\u001b[0;32m     33\u001b[0m     reduce \u001b[38;5;241m=\u001b[39m \u001b[38;5;28;01mTrue\u001b[39;00m\n\u001b[1;32m---> 35\u001b[0m \u001b[38;5;28;01mif\u001b[39;00m size_average \u001b[38;5;129;01mand\u001b[39;00m reduce:\n\u001b[0;32m     36\u001b[0m     ret \u001b[38;5;241m=\u001b[39m \u001b[38;5;124m'\u001b[39m\u001b[38;5;124mmean\u001b[39m\u001b[38;5;124m'\u001b[39m\n\u001b[0;32m     37\u001b[0m \u001b[38;5;28;01melif\u001b[39;00m reduce:\n",
            "\u001b[1;31mRuntimeError\u001b[0m: Boolean value of Tensor with more than one value is ambiguous"
          ]
        }
      ],
      "source": [
        "\n",
        "device = torch.device(\"cuda\" if torch.cuda.is_available() else \"cpu\")\n",
        "print(f\"Training on device {device}.\")\n",
        "n_epochs=20\n",
        "#Put in here the models you want to train\n",
        "models = {\n",
        "   \"Bcos LeNet5:\":VGG(),\n",
        "   \n",
        "}\n",
        "\n",
        "best_model, best_accuracy = model_selection_and_evaluation(models, train_loader, val_loader,n_epochs)\n",
        "_,test_accuracy=validate(best_model, test_loader)*100.\n",
        "print(f\"\\nBest model: {best_model.__class__.__name__} with a test accuracy of {test_accuracy:.2f}%\")"
      ]
    },
    {
      "cell_type": "code",
      "execution_count": null,
      "metadata": {},
      "outputs": [
        {
          "name": "stdout",
          "output_type": "stream",
          "text": [
            "Bilder: torch.Size([32, 1, 48, 48])\n",
            "Labels: tensor([4, 5, 2, 3, 3, 3, 3, 0, 2, 3, 5, 3, 6, 5, 6, 2, 3, 6, 6, 6, 0, 3, 0, 3,\n",
            "        4, 3, 0, 3, 3, 2, 6, 1])\n"
          ]
        },
        {
          "data": {
            "image/png": "[encoded data removed]",
            "text/plain": [
              "<Figure size 640x480 with 1 Axes>"
            ]
          },
          "metadata": {},
          "output_type": "display_data"
        }
      ],
      "source": [
        "# Example: Load a batch and plot an image\n",
        "data_iter = iter(train_loader)\n",
        "images, labels = next(data_iter)\n",
        "\n",
        "print(f\"Bilder: {images.shape}\")\n",
        "print(f\"Labels: {labels}\")\n",
        "\n",
        "plt.imshow(images[0].squeeze(), cmap=\"gray\")\n",
        "plt.title(f\"Label: {labels[0].item()}\")\n",
        "plt.show()"
      ]
    },
    {
      "cell_type": "code",
      "execution_count": 79,
      "metadata": {},
      "outputs": [],
      "source": [
        "dic_label={0:'Angry', 1:'Disgust', 2:'Fear', 3:'Happy', 4:'Sad', 5:'Surprise', 6:'Neutral'}"
      ]
    },
    {
      "cell_type": "code",
      "execution_count": 81,
      "metadata": {},
      "outputs": [],
      "source": [
        "emotion=dic_label[int(best_model(images[0]).argmax())]"
      ]
    },
    {
      "cell_type": "code",
      "execution_count": 94,
      "metadata": {
        "id": "MwJHG8b2VBYf"
      },
      "outputs": [
        {
          "data": {
            "text/plain": [
              "(1, 120)"
            ]
          },
          "execution_count": 94,
          "metadata": {},
          "output_type": "execute_result"
        }
      ],
      "source": [
        "img=models[\"Bcos LeNet5:\"].cos_sim1\n",
        "img=img.detach().numpy()\n",
        "img.shape"
      ]
    },
    {
      "cell_type": "code",
      "execution_count": null,
      "metadata": {},
      "outputs": [],
      "source": []
    }
  ],
  "metadata": {
    "colab": {
      "provenance": []
    },
    "kernelspec": {
      "display_name": "Python 3",
      "name": "python3"
    },
    "language_info": {
      "codemirror_mode": {
        "name": "ipython",
        "version": 3
      },
      "file_extension": ".py",
      "mimetype": "text/x-python",
      "name": "python",
      "nbconvert_exporter": "python",
      "pygments_lexer": "ipython3",
      "version": "3.12.3"
    }
  },
  "nbformat": 4,
  "nbformat_minor": 0
}
